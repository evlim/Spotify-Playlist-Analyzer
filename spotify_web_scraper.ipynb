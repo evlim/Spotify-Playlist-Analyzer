{
 "cells": [
  {
   "cell_type": "markdown",
   "metadata": {},
   "source": [
    "# Spotify Playlist Analyzer"
   ]
  },
  {
   "cell_type": "markdown",
   "metadata": {},
   "source": [
    "## Web Scraper"
   ]
  },
  {
   "cell_type": "code",
   "execution_count": 1,
   "metadata": {},
   "outputs": [],
   "source": [
    "# Import\n",
    "from SpotifyScraper.scraper import Scraper, Request"
   ]
  },
  {
   "cell_type": "code",
   "execution_count": 2,
   "metadata": {},
   "outputs": [],
   "source": [
    "# Create requests using Request which was imported before, You can also pass cookie_file, header and proxy inside Request(). \n",
    "# Default is None.\n",
    "request = Request().request()"
   ]
  },
  {
   "cell_type": "code",
   "execution_count": 3,
   "metadata": {},
   "outputs": [],
   "source": [
    "# Extract Spotify playlist information by URL\n",
    "playlist_info = Scraper(session=request).get_playlist_url_info(url='https://open.spotify.com/playlist/37i9dQZF1DWTbzY5gOVvKd')"
   ]
  },
  {
   "cell_type": "markdown",
   "metadata": {},
   "source": [
    "Call get_playlist_url_info function from Scraper to extract all the infromation from url. If the given URL is valid, it will return a dict with the below keys:\n",
    "\n",
    "1. album_title\n",
    "2. cover_url\n",
    "3. author\n",
    "4. author_url\n",
    "5. playlist_description\n",
    "6. tracks_list\n",
    "7. ERROR"
   ]
  },
  {
   "cell_type": "code",
   "execution_count": 5,
   "metadata": {},
   "outputs": [
    {
     "name": "stdout",
     "output_type": "stream",
     "text": [
      "{'album_title': 'Jazzy Romance on Spotify', 'cover_url': 'https://i.scdn.co/image/ab67706f00000003ab1005aa0b966ad91f8d2130', 'author': 'spotify', 'author_url': 'https://open.spotify.com/user/spotify', 'playlist_description': 'Lovely jazz tunes.', 'tracks_list': [{'track_name': 'Night And Day', 'track_singer': 'Diana Krall', 'track_album': 'Turn Up The Quiet', 'duration': '4:38', 'ERROR': None}, {'track_name': 'If You Love Me', 'track_singer': 'Melody Gardot', 'track_album': 'Sunset In The Blue', 'duration': '4:34', 'ERROR': None}, {'track_name': 'La vie en rose', 'track_singer': 'Laura Fygi', 'track_album': 'Jazz Love', 'duration': '3:47', 'ERROR': None}, {'track_name': 'Go Slow', 'track_singer': 'Laura Benanti', 'track_album': 'Laura Benanti', 'duration': '4:24', 'ERROR': None}, {'track_name': 'Autumn In New York', 'track_singer': 'Diana Krall', 'track_album': 'This Dream Of You', 'duration': '5:19', 'ERROR': None}, {'track_name': 'Moon River', 'track_singer': 'Nicole Henry', 'track_album': 'Moon River', 'duration': '5:10', 'ERROR': None}, {'track_name': 'I Only Have Eyes for You', 'track_singer': \"Scott Bradlee's Postmodern Jukebox\", 'track_album': 'Sunny Holiday', 'duration': '3:12', 'ERROR': None}, {'track_name': 'OK Crooner', 'track_singer': 'All Because Of You', 'track_album': 'Matt Dusk', 'duration': '3:35', 'ERROR': None}, {'track_name': 'JetSetJazz', 'track_singer': 'There You Are (Second Chance)', 'track_album': 'Karen Souza', 'duration': '3:33', 'ERROR': None}, {'track_name': 'Language of Love', 'track_singer': 'If Love Is Overrated', 'track_album': 'Gregory Porter', 'duration': '5:53', 'ERROR': None}, {'track_name': 'Best Love Ballads', 'track_singer': 'Moonlight Becomes You', 'track_album': 'Barry Manilow', 'duration': '3:27', 'ERROR': None}, {'track_name': 'Night Songs II', 'track_singer': 'Mind If I Make Love To You', 'track_album': 'Harry Connick, Jr.', 'duration': '3:29', 'ERROR': None}, {'track_name': 'True Love: A Celebration Of Cole Porter', 'track_singer': \"I Can't Give You Anything\", 'track_album': 'Anthony Strong', 'duration': '5:18', 'ERROR': None}, {'track_name': 'Me and My Radio', 'track_singer': 'I Will Wait For You', 'track_album': 'Nicki Parrott', 'duration': '5:30', 'ERROR': None}, {'track_name': 'From New York To Paris', 'track_singer': 'My True Love Is You', 'track_album': 'Sarah McKenzie', 'duration': '3:12', 'ERROR': None}, {'track_name': 'Secrets of My Heart', 'track_singer': 'Loving You', 'track_album': 'Cyrille Aimee', 'duration': '2:51', 'ERROR': None}, {'track_name': 'Move On: A Sondheim Adventure', 'track_singer': 'Unforgettable', 'track_album': 'Sachal Vasandani', 'duration': '2:56', 'ERROR': None}, {'track_name': 'Taylor Eigsti', 'track_singer': 'Eric Harland', 'track_album': 'Reuben Rogers', 'duration': '4:31', 'ERROR': None}, {'track_name': 'Shadow Train', 'track_singer': 'But Beautiful', 'track_album': 'Gregory Porter', 'duration': '4:56', 'ERROR': None}, {'track_name': 'Nat \"King\" Cole & Me (Deluxe)', 'track_singer': 'That’s My Desire', 'track_album': 'Beegie Adair', 'duration': '2:58', 'ERROR': None}, {'track_name': 'Ray Stevens', 'track_singer': \"Grover's Hat Project\", 'track_album': \"People Will Say We're In Love\", 'duration': '4:40', 'ERROR': None}, {'track_name': 'Kat Gang', 'track_singer': 'Come Closer', 'track_album': 'My One and Only Love', 'duration': '2:43', 'ERROR': None}, {'track_name': 'Karen Souza', 'track_singer': \"Ain't No Sunshine / My One and Only Love\", 'track_album': 'You Belong to My Heart - Solamente Una Vez', 'duration': '2:09', 'ERROR': None}, {'track_name': 'Flora Martínez', 'track_singer': 'You Belong to My Heart - Solamente Una Vez', 'track_album': 'One Step Ahead', 'duration': '3:26', 'ERROR': None}, {'track_name': 'Cécile McLorin Salvant', 'track_singer': 'The Window', 'track_album': 'In the Wee Small Hours of the Morning', 'duration': '2:34', 'ERROR': None}, {'track_name': 'Stacey Kent', 'track_singer': 'Tenderly', 'track_album': 'As Time Goes By', 'duration': '3:44', 'ERROR': None}, {'track_name': 'Bryan Ferry', 'track_singer': 'As Time Goes By', 'track_album': 'My Romance', 'duration': '2:58', 'ERROR': None}, {'track_name': 'Ella Fitzgerald', 'track_singer': 'Ella Fitzgerald Sings The Rodgers And Hart Song Book', 'track_album': 'The Nearness of You', 'duration': '3:31', 'ERROR': None}, {'track_name': 'Nancy Wilson', 'track_singer': 'Ghost of Yesterday - A Nancy Wilson Collection', 'track_album': 'Sunday Kind of Love', 'duration': '4:25', 'ERROR': None}, {'track_name': 'Steve Tyrell', 'track_singer': 'A Song For You', 'track_album': 'Like Someone in Love', 'duration': '4:32', 'ERROR': None}, {'track_name': 'Elisabeth Melander', 'track_singer': 'Reflections of a Voice', 'track_album': 'My Funny Valentine', 'duration': None, 'ERROR': None}], 'ERROR': None}\n"
     ]
    }
   ],
   "source": [
    "print(playlist_info)"
   ]
  },
  {
   "cell_type": "code",
   "execution_count": null,
   "metadata": {},
   "outputs": [],
   "source": []
  }
 ],
 "metadata": {
  "kernelspec": {
   "display_name": "Python 3",
   "language": "python",
   "name": "python3"
  },
  "language_info": {
   "codemirror_mode": {
    "name": "ipython",
    "version": 3
   },
   "file_extension": ".py",
   "mimetype": "text/x-python",
   "name": "python",
   "nbconvert_exporter": "python",
   "pygments_lexer": "ipython3",
   "version": "3.7.7"
  }
 },
 "nbformat": 4,
 "nbformat_minor": 4
}
